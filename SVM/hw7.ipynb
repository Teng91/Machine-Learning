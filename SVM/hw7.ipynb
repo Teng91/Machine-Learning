{
 "cells": [
  {
   "cell_type": "markdown",
   "id": "a9466a98",
   "metadata": {},
   "source": [
    "# problem 1\n",
    "\n",
    "手寫題:1(a)-1(e) 詳見pdf檔"
   ]
  },
  {
   "cell_type": "code",
   "execution_count": 111,
   "id": "af7e3330",
   "metadata": {},
   "outputs": [
    {
     "data": {
      "image/png": "[encoded data removed]",
      "text/plain": [
       "<Figure size 432x288 with 1 Axes>"
      ]
     },
     "metadata": {
      "needs_background": "light"
     },
     "output_type": "display_data"
    }
   ],
   "source": [
    "#1(f)\n",
    "import numpy as np\n",
    "import matplotlib.pyplot as plt\n",
    "x1 = (-1,1,0)\n",
    "x2 = (1,1,0)\n",
    "x3 = 0\n",
    "x4 = 1\n",
    "y = np.linspace(-2, 2, 1000)\n",
    "t = y**2+1/2\n",
    "plt.scatter(x1,x2,color='r')\n",
    "plt.scatter(x3,x4,color='b')\n",
    "plt.plot(y, t)\n",
    "plt.show()"
   ]
  },
  {
   "cell_type": "markdown",
   "id": "6449bb7e",
   "metadata": {},
   "source": [
    "# problem 2"
   ]
  },
  {
   "cell_type": "code",
   "execution_count": 112,
   "id": "f8d04269",
   "metadata": {},
   "outputs": [],
   "source": [
    "import numpy as np\n",
    "from sklearn import svm\n",
    "import scipy.io\n",
    "mat = scipy.io.loadmat('07HW2_digit.mat') "
   ]
  },
  {
   "cell_type": "code",
   "execution_count": 113,
   "id": "c035f65d",
   "metadata": {},
   "outputs": [
    {
     "data": {
      "text/plain": [
       "(1000, 784)"
      ]
     },
     "execution_count": 113,
     "metadata": {},
     "output_type": "execute_result"
    }
   ],
   "source": [
    "train0 = mat['train0']\n",
    "train1 = mat['train1']\n",
    "training = np.concatenate((train0,train1))\n",
    "training.shape"
   ]
  },
  {
   "cell_type": "code",
   "execution_count": 114,
   "id": "87fccd46",
   "metadata": {},
   "outputs": [
    {
     "data": {
      "text/plain": [
       "(200, 784)"
      ]
     },
     "execution_count": 114,
     "metadata": {},
     "output_type": "execute_result"
    }
   ],
   "source": [
    "test0 = mat['test0']\n",
    "test1 = mat['test1']\n",
    "test = np.concatenate((test0,test1))\n",
    "test.shape"
   ]
  },
  {
   "cell_type": "code",
   "execution_count": 115,
   "id": "38ede31b",
   "metadata": {},
   "outputs": [],
   "source": [
    "train_label = []\n",
    "for i in range(2):\n",
    "    for j in range(500):\n",
    "        train_label.append(str(i))"
   ]
  },
  {
   "cell_type": "code",
   "execution_count": 116,
   "id": "74c2f8b9",
   "metadata": {},
   "outputs": [],
   "source": [
    "test_label = []\n",
    "for i in range(2):\n",
    "    for j in range(100):\n",
    "        test_label.append(str(i))"
   ]
  },
  {
   "cell_type": "code",
   "execution_count": 117,
   "id": "04256eae",
   "metadata": {},
   "outputs": [
    {
     "name": "stdout",
     "output_type": "stream",
     "text": [
      "C=0.03125,gamma=6.103515625e-05,accuracy=0.5\n",
      "C=0.0625,gamma=6.103515625e-05,accuracy=0.5\n",
      "C=0.125,gamma=6.103515625e-05,accuracy=0.5\n",
      "C=0.25,gamma=6.103515625e-05,accuracy=0.5\n",
      "C=0.5,gamma=6.103515625e-05,accuracy=0.5\n",
      "C=1,gamma=6.103515625e-05,accuracy=0.52\n",
      "C=2,gamma=6.103515625e-05,accuracy=0.535\n",
      "C=4,gamma=6.103515625e-05,accuracy=0.535\n",
      "C=8,gamma=6.103515625e-05,accuracy=0.535\n",
      "C=0.03125,gamma=0.0001220703125,accuracy=0.5\n",
      "C=0.0625,gamma=0.0001220703125,accuracy=0.5\n",
      "C=0.125,gamma=0.0001220703125,accuracy=0.5\n",
      "C=0.25,gamma=0.0001220703125,accuracy=0.5\n",
      "C=0.5,gamma=0.0001220703125,accuracy=0.5\n",
      "C=1,gamma=0.0001220703125,accuracy=0.5\n",
      "C=2,gamma=0.0001220703125,accuracy=0.5\n",
      "C=4,gamma=0.0001220703125,accuracy=0.5\n",
      "C=8,gamma=0.0001220703125,accuracy=0.5\n",
      "C=0.03125,gamma=0.000244140625,accuracy=0.5\n",
      "C=0.0625,gamma=0.000244140625,accuracy=0.5\n",
      "C=0.125,gamma=0.000244140625,accuracy=0.5\n",
      "C=0.25,gamma=0.000244140625,accuracy=0.5\n",
      "C=0.5,gamma=0.000244140625,accuracy=0.5\n",
      "C=1,gamma=0.000244140625,accuracy=0.5\n",
      "C=2,gamma=0.000244140625,accuracy=0.5\n",
      "C=4,gamma=0.000244140625,accuracy=0.5\n",
      "C=8,gamma=0.000244140625,accuracy=0.5\n",
      "C=0.03125,gamma=0.00048828125,accuracy=0.665\n",
      "C=0.0625,gamma=0.00048828125,accuracy=0.665\n",
      "C=0.125,gamma=0.00048828125,accuracy=0.665\n",
      "C=0.25,gamma=0.00048828125,accuracy=0.665\n",
      "C=0.5,gamma=0.00048828125,accuracy=0.665\n",
      "C=1,gamma=0.00048828125,accuracy=0.5\n",
      "C=2,gamma=0.00048828125,accuracy=0.5\n",
      "C=4,gamma=0.00048828125,accuracy=0.5\n",
      "C=8,gamma=0.00048828125,accuracy=0.5\n",
      "C=0.03125,gamma=0.0009765625,accuracy=0.51\n",
      "C=0.0625,gamma=0.0009765625,accuracy=0.51\n",
      "C=0.125,gamma=0.0009765625,accuracy=0.51\n",
      "C=0.25,gamma=0.0009765625,accuracy=0.51\n",
      "C=0.5,gamma=0.0009765625,accuracy=0.51\n",
      "C=1,gamma=0.0009765625,accuracy=0.5\n",
      "C=2,gamma=0.0009765625,accuracy=0.5\n",
      "C=4,gamma=0.0009765625,accuracy=0.5\n",
      "C=8,gamma=0.0009765625,accuracy=0.5\n",
      "C=0.03125,gamma=0.001953125,accuracy=0.5\n",
      "C=0.0625,gamma=0.001953125,accuracy=0.5\n",
      "C=0.125,gamma=0.001953125,accuracy=0.5\n",
      "C=0.25,gamma=0.001953125,accuracy=0.5\n",
      "C=0.5,gamma=0.001953125,accuracy=0.5\n",
      "C=1,gamma=0.001953125,accuracy=0.5\n",
      "C=2,gamma=0.001953125,accuracy=0.5\n",
      "C=4,gamma=0.001953125,accuracy=0.5\n",
      "C=8,gamma=0.001953125,accuracy=0.5\n",
      "C=0.03125,gamma=0.00390625,accuracy=0.5\n",
      "C=0.0625,gamma=0.00390625,accuracy=0.5\n",
      "C=0.125,gamma=0.00390625,accuracy=0.5\n",
      "C=0.25,gamma=0.00390625,accuracy=0.5\n",
      "C=0.5,gamma=0.00390625,accuracy=0.5\n",
      "C=1,gamma=0.00390625,accuracy=0.5\n",
      "C=2,gamma=0.00390625,accuracy=0.5\n",
      "C=4,gamma=0.00390625,accuracy=0.5\n",
      "C=8,gamma=0.00390625,accuracy=0.5\n",
      "C=0.03125,gamma=0.0078125,accuracy=0.5\n",
      "C=0.0625,gamma=0.0078125,accuracy=0.5\n",
      "C=0.125,gamma=0.0078125,accuracy=0.5\n",
      "C=0.25,gamma=0.0078125,accuracy=0.5\n",
      "C=0.5,gamma=0.0078125,accuracy=0.5\n",
      "C=1,gamma=0.0078125,accuracy=0.5\n",
      "C=2,gamma=0.0078125,accuracy=0.5\n",
      "C=4,gamma=0.0078125,accuracy=0.5\n",
      "C=8,gamma=0.0078125,accuracy=0.5\n",
      "C=0.03125,gamma=0.015625,accuracy=0.5\n",
      "C=0.0625,gamma=0.015625,accuracy=0.5\n",
      "C=0.125,gamma=0.015625,accuracy=0.5\n",
      "C=0.25,gamma=0.015625,accuracy=0.5\n",
      "C=0.5,gamma=0.015625,accuracy=0.5\n",
      "C=1,gamma=0.015625,accuracy=0.5\n",
      "C=2,gamma=0.015625,accuracy=0.5\n",
      "C=4,gamma=0.015625,accuracy=0.5\n",
      "C=8,gamma=0.015625,accuracy=0.5\n"
     ]
    }
   ],
   "source": [
    "a = [-14,-13,-12,-11,-10,-9,-8,-7,-6]\n",
    "b = [-5,-4,-3,-2,-1,0,1,2,3]\n",
    "for j in range(9):\n",
    "    for i in range(9):\n",
    "        #print(a[j],b[i])\n",
    "        svm_ = svm.SVC(kernel='rbf', C=pow(2,b[i]), gamma=pow(2,a[j]))\n",
    "        svm_.fit(training,train_label)\n",
    "        print(\"C={},gamma={},accuracy={}\".format(pow(2,b[i]),pow(2,a[j]),svm_.score(test,test_label)))"
   ]
  },
  {
   "cell_type": "code",
   "execution_count": 118,
   "id": "585877ba",
   "metadata": {},
   "outputs": [
    {
     "name": "stdout",
     "output_type": "stream",
     "text": [
      "SVC(C=0.03125, gamma=0.0003830977040511479)\n",
      "accuracy= 0.8\n"
     ]
    }
   ],
   "source": [
    "#找 kernel='rbf' 極值\n",
    "svm_ = svm.SVC(kernel='rbf', C=pow(2,-5), gamma=pow(2,-11.35))\n",
    "print(svm_)\n",
    "svm_.fit(training,train_label)\n",
    "print(\"accuracy=\",svm_.score(test,test_label))"
   ]
  },
  {
   "cell_type": "markdown",
   "id": "8a9ec2b2",
   "metadata": {},
   "source": [
    "經過Trial & error找到 C=2^(-5)，gamma=2^(-11.35)時，accuracy達到0.8"
   ]
  },
  {
   "cell_type": "code",
   "execution_count": 119,
   "id": "acbf9bf8",
   "metadata": {},
   "outputs": [
    {
     "name": "stdout",
     "output_type": "stream",
     "text": [
      "C=0.03125,gamma=6.103515625e-05,accuracy=1.0\n",
      "C=0.0625,gamma=6.103515625e-05,accuracy=1.0\n",
      "C=0.125,gamma=6.103515625e-05,accuracy=1.0\n",
      "C=0.25,gamma=6.103515625e-05,accuracy=1.0\n",
      "C=0.5,gamma=6.103515625e-05,accuracy=1.0\n",
      "C=1,gamma=6.103515625e-05,accuracy=1.0\n",
      "C=2,gamma=6.103515625e-05,accuracy=1.0\n",
      "C=4,gamma=6.103515625e-05,accuracy=1.0\n",
      "C=8,gamma=6.103515625e-05,accuracy=1.0\n",
      "C=0.03125,gamma=0.0001220703125,accuracy=1.0\n",
      "C=0.0625,gamma=0.0001220703125,accuracy=1.0\n",
      "C=0.125,gamma=0.0001220703125,accuracy=1.0\n",
      "C=0.25,gamma=0.0001220703125,accuracy=1.0\n",
      "C=0.5,gamma=0.0001220703125,accuracy=1.0\n",
      "C=1,gamma=0.0001220703125,accuracy=1.0\n",
      "C=2,gamma=0.0001220703125,accuracy=1.0\n",
      "C=4,gamma=0.0001220703125,accuracy=1.0\n",
      "C=8,gamma=0.0001220703125,accuracy=1.0\n",
      "C=0.03125,gamma=0.000244140625,accuracy=1.0\n",
      "C=0.0625,gamma=0.000244140625,accuracy=1.0\n",
      "C=0.125,gamma=0.000244140625,accuracy=1.0\n",
      "C=0.25,gamma=0.000244140625,accuracy=1.0\n",
      "C=0.5,gamma=0.000244140625,accuracy=1.0\n",
      "C=1,gamma=0.000244140625,accuracy=1.0\n",
      "C=2,gamma=0.000244140625,accuracy=1.0\n",
      "C=4,gamma=0.000244140625,accuracy=1.0\n",
      "C=8,gamma=0.000244140625,accuracy=1.0\n",
      "C=0.03125,gamma=0.00048828125,accuracy=1.0\n",
      "C=0.0625,gamma=0.00048828125,accuracy=1.0\n",
      "C=0.125,gamma=0.00048828125,accuracy=1.0\n",
      "C=0.25,gamma=0.00048828125,accuracy=1.0\n",
      "C=0.5,gamma=0.00048828125,accuracy=1.0\n",
      "C=1,gamma=0.00048828125,accuracy=1.0\n",
      "C=2,gamma=0.00048828125,accuracy=1.0\n",
      "C=4,gamma=0.00048828125,accuracy=1.0\n",
      "C=8,gamma=0.00048828125,accuracy=1.0\n",
      "C=0.03125,gamma=0.0009765625,accuracy=1.0\n",
      "C=0.0625,gamma=0.0009765625,accuracy=1.0\n",
      "C=0.125,gamma=0.0009765625,accuracy=1.0\n",
      "C=0.25,gamma=0.0009765625,accuracy=1.0\n",
      "C=0.5,gamma=0.0009765625,accuracy=1.0\n",
      "C=1,gamma=0.0009765625,accuracy=1.0\n",
      "C=2,gamma=0.0009765625,accuracy=1.0\n",
      "C=4,gamma=0.0009765625,accuracy=1.0\n",
      "C=8,gamma=0.0009765625,accuracy=1.0\n",
      "C=0.03125,gamma=0.001953125,accuracy=1.0\n",
      "C=0.0625,gamma=0.001953125,accuracy=1.0\n",
      "C=0.125,gamma=0.001953125,accuracy=1.0\n",
      "C=0.25,gamma=0.001953125,accuracy=1.0\n",
      "C=0.5,gamma=0.001953125,accuracy=1.0\n",
      "C=1,gamma=0.001953125,accuracy=1.0\n",
      "C=2,gamma=0.001953125,accuracy=1.0\n",
      "C=4,gamma=0.001953125,accuracy=1.0\n",
      "C=8,gamma=0.001953125,accuracy=1.0\n",
      "C=0.03125,gamma=0.00390625,accuracy=1.0\n",
      "C=0.0625,gamma=0.00390625,accuracy=1.0\n",
      "C=0.125,gamma=0.00390625,accuracy=1.0\n",
      "C=0.25,gamma=0.00390625,accuracy=1.0\n",
      "C=0.5,gamma=0.00390625,accuracy=1.0\n",
      "C=1,gamma=0.00390625,accuracy=1.0\n",
      "C=2,gamma=0.00390625,accuracy=1.0\n",
      "C=4,gamma=0.00390625,accuracy=1.0\n",
      "C=8,gamma=0.00390625,accuracy=1.0\n",
      "C=0.03125,gamma=0.0078125,accuracy=1.0\n",
      "C=0.0625,gamma=0.0078125,accuracy=1.0\n",
      "C=0.125,gamma=0.0078125,accuracy=1.0\n",
      "C=0.25,gamma=0.0078125,accuracy=1.0\n",
      "C=0.5,gamma=0.0078125,accuracy=1.0\n",
      "C=1,gamma=0.0078125,accuracy=1.0\n",
      "C=2,gamma=0.0078125,accuracy=1.0\n",
      "C=4,gamma=0.0078125,accuracy=1.0\n",
      "C=8,gamma=0.0078125,accuracy=1.0\n",
      "C=0.03125,gamma=0.015625,accuracy=1.0\n",
      "C=0.0625,gamma=0.015625,accuracy=1.0\n",
      "C=0.125,gamma=0.015625,accuracy=1.0\n",
      "C=0.25,gamma=0.015625,accuracy=1.0\n",
      "C=0.5,gamma=0.015625,accuracy=1.0\n",
      "C=1,gamma=0.015625,accuracy=1.0\n",
      "C=2,gamma=0.015625,accuracy=1.0\n",
      "C=4,gamma=0.015625,accuracy=1.0\n",
      "C=8,gamma=0.015625,accuracy=1.0\n"
     ]
    }
   ],
   "source": [
    "#kernel='linear'\n",
    "a = [-14,-13,-12,-11,-10,-9,-8,-7,-6]\n",
    "b = [-5,-4,-3,-2,-1,0,1,2,3]\n",
    "for j in range(9):\n",
    "    for i in range(9):\n",
    "        #print(a[j],b[i])\n",
    "        svm_ = svm.SVC(kernel='linear', C=pow(2,b[i]), gamma=pow(2,a[j]))\n",
    "        svm_.fit(training,train_label)\n",
    "        print(\"C={},gamma={},accuracy={}\".format(pow(2,b[i]),pow(2,a[j]),svm_.score(test,test_label)))"
   ]
  },
  {
   "cell_type": "code",
   "execution_count": 120,
   "id": "08f38778",
   "metadata": {},
   "outputs": [
    {
     "name": "stdout",
     "output_type": "stream",
     "text": [
      "C=0.03125,gamma=6.103515625e-05,accuracy=0.995\n",
      "C=0.0625,gamma=6.103515625e-05,accuracy=0.995\n",
      "C=0.125,gamma=6.103515625e-05,accuracy=0.995\n",
      "C=0.25,gamma=6.103515625e-05,accuracy=0.995\n",
      "C=0.5,gamma=6.103515625e-05,accuracy=0.995\n",
      "C=1,gamma=6.103515625e-05,accuracy=0.995\n",
      "C=2,gamma=6.103515625e-05,accuracy=0.995\n",
      "C=4,gamma=6.103515625e-05,accuracy=0.995\n",
      "C=8,gamma=6.103515625e-05,accuracy=0.995\n",
      "C=0.03125,gamma=0.0001220703125,accuracy=0.995\n",
      "C=0.0625,gamma=0.0001220703125,accuracy=0.995\n",
      "C=0.125,gamma=0.0001220703125,accuracy=0.995\n",
      "C=0.25,gamma=0.0001220703125,accuracy=0.995\n",
      "C=0.5,gamma=0.0001220703125,accuracy=0.995\n",
      "C=1,gamma=0.0001220703125,accuracy=0.995\n",
      "C=2,gamma=0.0001220703125,accuracy=0.995\n",
      "C=4,gamma=0.0001220703125,accuracy=0.995\n",
      "C=8,gamma=0.0001220703125,accuracy=0.995\n",
      "C=0.03125,gamma=0.000244140625,accuracy=0.995\n",
      "C=0.0625,gamma=0.000244140625,accuracy=0.995\n",
      "C=0.125,gamma=0.000244140625,accuracy=0.995\n",
      "C=0.25,gamma=0.000244140625,accuracy=0.995\n",
      "C=0.5,gamma=0.000244140625,accuracy=0.995\n",
      "C=1,gamma=0.000244140625,accuracy=0.995\n",
      "C=2,gamma=0.000244140625,accuracy=0.995\n",
      "C=4,gamma=0.000244140625,accuracy=0.995\n",
      "C=8,gamma=0.000244140625,accuracy=0.995\n",
      "C=0.03125,gamma=0.00048828125,accuracy=0.995\n",
      "C=0.0625,gamma=0.00048828125,accuracy=0.995\n",
      "C=0.125,gamma=0.00048828125,accuracy=0.995\n",
      "C=0.25,gamma=0.00048828125,accuracy=0.995\n",
      "C=0.5,gamma=0.00048828125,accuracy=0.995\n",
      "C=1,gamma=0.00048828125,accuracy=0.995\n",
      "C=2,gamma=0.00048828125,accuracy=0.995\n",
      "C=4,gamma=0.00048828125,accuracy=0.995\n",
      "C=8,gamma=0.00048828125,accuracy=0.995\n",
      "C=0.03125,gamma=0.0009765625,accuracy=0.995\n",
      "C=0.0625,gamma=0.0009765625,accuracy=0.995\n",
      "C=0.125,gamma=0.0009765625,accuracy=0.995\n",
      "C=0.25,gamma=0.0009765625,accuracy=0.995\n",
      "C=0.5,gamma=0.0009765625,accuracy=0.995\n",
      "C=1,gamma=0.0009765625,accuracy=0.995\n",
      "C=2,gamma=0.0009765625,accuracy=0.995\n",
      "C=4,gamma=0.0009765625,accuracy=0.995\n",
      "C=8,gamma=0.0009765625,accuracy=0.995\n",
      "C=0.03125,gamma=0.001953125,accuracy=0.995\n",
      "C=0.0625,gamma=0.001953125,accuracy=0.995\n",
      "C=0.125,gamma=0.001953125,accuracy=0.995\n",
      "C=0.25,gamma=0.001953125,accuracy=0.995\n",
      "C=0.5,gamma=0.001953125,accuracy=0.995\n",
      "C=1,gamma=0.001953125,accuracy=0.995\n",
      "C=2,gamma=0.001953125,accuracy=0.995\n",
      "C=4,gamma=0.001953125,accuracy=0.995\n",
      "C=8,gamma=0.001953125,accuracy=0.995\n",
      "C=0.03125,gamma=0.00390625,accuracy=0.995\n",
      "C=0.0625,gamma=0.00390625,accuracy=0.995\n",
      "C=0.125,gamma=0.00390625,accuracy=0.995\n",
      "C=0.25,gamma=0.00390625,accuracy=0.995\n",
      "C=0.5,gamma=0.00390625,accuracy=0.995\n",
      "C=1,gamma=0.00390625,accuracy=0.995\n",
      "C=2,gamma=0.00390625,accuracy=0.995\n",
      "C=4,gamma=0.00390625,accuracy=0.995\n",
      "C=8,gamma=0.00390625,accuracy=0.995\n",
      "C=0.03125,gamma=0.0078125,accuracy=0.995\n",
      "C=0.0625,gamma=0.0078125,accuracy=0.995\n",
      "C=0.125,gamma=0.0078125,accuracy=0.995\n",
      "C=0.25,gamma=0.0078125,accuracy=0.995\n",
      "C=0.5,gamma=0.0078125,accuracy=0.995\n",
      "C=1,gamma=0.0078125,accuracy=0.995\n",
      "C=2,gamma=0.0078125,accuracy=0.995\n",
      "C=4,gamma=0.0078125,accuracy=0.995\n",
      "C=8,gamma=0.0078125,accuracy=0.995\n",
      "C=0.03125,gamma=0.015625,accuracy=0.995\n",
      "C=0.0625,gamma=0.015625,accuracy=0.995\n",
      "C=0.125,gamma=0.015625,accuracy=0.995\n",
      "C=0.25,gamma=0.015625,accuracy=0.995\n",
      "C=0.5,gamma=0.015625,accuracy=0.995\n",
      "C=1,gamma=0.015625,accuracy=0.995\n",
      "C=2,gamma=0.015625,accuracy=0.995\n",
      "C=4,gamma=0.015625,accuracy=0.995\n",
      "C=8,gamma=0.015625,accuracy=0.995\n"
     ]
    }
   ],
   "source": [
    "#kernel='poly'\n",
    "a = [-14,-13,-12,-11,-10,-9,-8,-7,-6]\n",
    "b = [-5,-4,-3,-2,-1,0,1,2,3]\n",
    "for j in range(9):\n",
    "    for i in range(9):\n",
    "        #print(a[j],b[i])\n",
    "        svm_ = svm.SVC(kernel='poly', C=pow(2,b[i]), gamma=pow(2,a[j]))\n",
    "        svm_.fit(training,train_label)\n",
    "        print(\"C={},gamma={},accuracy={}\".format(pow(2,b[i]),pow(2,a[j]),svm_.score(test,test_label)))"
   ]
  },
  {
   "cell_type": "markdown",
   "id": "dd744f0c",
   "metadata": {},
   "source": [
    "kernel='linear', accuracy=1\n",
    "\n",
    "kernel='poly', accuracy=0.995\n",
    "\n",
    "程式執行速度: (快)linear>poly>rbf(慢)\n",
    "\n",
    "linear為線性，速度最快；poly和rbf為非線性。"
   ]
  },
  {
   "cell_type": "code",
   "execution_count": null,
   "id": "dc28c1ec",
   "metadata": {},
   "outputs": [],
   "source": []
  }
 ],
 "metadata": {
  "kernelspec": {
   "display_name": "Python 3",
   "language": "python",
   "name": "python3"
  },
  "language_info": {
   "codemirror_mode": {
    "name": "ipython",
    "version": 3
   },
   "file_extension": ".py",
   "mimetype": "text/x-python",
   "name": "python",
   "nbconvert_exporter": "python",
   "pygments_lexer": "ipython3",
   "version": "3.8.8"
  }
 },
 "nbformat": 4,
 "nbformat_minor": 5
}
